{
 "cells": [
  {
   "cell_type": "markdown",
   "metadata": {},
   "source": [
    "# Emotion Detection - DistilBERT-base-uncased-emotion"
   ]
  },
  {
   "cell_type": "markdown",
   "metadata": {},
   "source": [
    "In this section we will only use the model for emotion prediction. We won't use a self made model, since this takes a long time, and there are other free models available.\n",
    "\n",
    "We will use the [distilBERT-base-uncased-emotion model](https://huggingface.co/bhadresh-savani/distilbert-base-uncased-emotion) from [bhadresh-savani](https://huggingface.co/bhadresh-savani) on [huggingface](huggingface.co).\n",
    "\n",
    "There are a number of emotions available in this model: \"surprise\", \"sadness\", \"joy\", \"love\", \"anger\", \"fear\"."
   ]
  },
  {
   "cell_type": "code",
   "execution_count": 7,
   "metadata": {},
   "outputs": [],
   "source": [
    "from transformers import pipeline"
   ]
  },
  {
   "cell_type": "markdown",
   "metadata": {},
   "source": [
    "The pipeline is very straightforward, but for our API endpoints we need to modify a few things:\n",
    "\n",
    "- get all emotions => returns list of emotions\n",
    "  \n",
    "- get all emotions with text => returns list of emotions with text and their intensity\n",
    "  - 'label' should be 'emotion' and 'score' should be 'intensity'\n",
    "  - 'intensity' should be rounded to 2 decimals"
   ]
  },
  {
   "cell_type": "code",
   "execution_count": 18,
   "metadata": {},
   "outputs": [],
   "source": [
    "def get_emotions(text=None):\n",
    "\tif text is None:\n",
    "\t\treturn {\n",
    "\t\t\t\"emotions\": [\n",
    "\t\t\t\t\"surprise\", \"sadness\", \"joy\", \"love\", \"anger\", \"fear\"\n",
    "\t\t\t]\n",
    "\t\t}\n",
    "\t\n",
    "\tclassifier = pipeline(\"text-classification\",model='bhadresh-savani/distilbert-base-uncased-emotion', return_all_scores=True)\n",
    "\n",
    "\tprediction = classifier(\"I love using transformers. The best part is wide range of support and its easy to use\")\n",
    "\t\n",
    "\temotions = []\n",
    "\tfor result in prediction[0]:\n",
    "\t\temotions.append({\n",
    "\t\t\t\"emotion\": result[\"label\"],\n",
    "\t\t\t\"intensity\": result[\"score\"]\n",
    "\t\t})\n",
    "\n",
    "\treturn {\n",
    "        \"text\": text,\n",
    "        \"emotions\": emotions\n",
    "    }"
   ]
  },
  {
   "cell_type": "code",
   "execution_count": 19,
   "metadata": {},
   "outputs": [
    {
     "data": {
      "text/plain": [
       "{'text': 'I am very happy today! The atmosphere looks cheerful. I admire the way everything is going on.',\n",
       " 'emotions': [{'emotion': 'sadness', 'intensity': 0.000679271062836051},\n",
       "  {'emotion': 'joy', 'intensity': 0.9959298968315125},\n",
       "  {'emotion': 'love', 'intensity': 0.0009452449739910662},\n",
       "  {'emotion': 'anger', 'intensity': 0.001805522944778204},\n",
       "  {'emotion': 'fear', 'intensity': 0.0004111042362637818},\n",
       "  {'emotion': 'surprise', 'intensity': 0.00022885717044118792}]}"
      ]
     },
     "execution_count": 19,
     "metadata": {},
     "output_type": "execute_result"
    }
   ],
   "source": [
    "text = \"I am very happy today! The atmosphere looks cheerful. I admire the way everything is going on.\"\n",
    "\n",
    "get_emotions(text)"
   ]
  }
 ],
 "metadata": {
  "kernelspec": {
   "display_name": "server-L9IasW_S",
   "language": "python",
   "name": "python3"
  },
  "language_info": {
   "codemirror_mode": {
    "name": "ipython",
    "version": 3
   },
   "file_extension": ".py",
   "mimetype": "text/x-python",
   "name": "python",
   "nbconvert_exporter": "python",
   "pygments_lexer": "ipython3",
   "version": "3.11.4"
  },
  "orig_nbformat": 4
 },
 "nbformat": 4,
 "nbformat_minor": 2
}
