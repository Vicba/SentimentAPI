{
 "cells": [
  {
   "cell_type": "markdown",
   "metadata": {},
   "source": [
    "# Binary & Fine Grained Sentiment Notebook"
   ]
  },
  {
   "cell_type": "markdown",
   "metadata": {},
   "source": [
    "In this notebook we will create a model that predicts the sentiment of a piece of text. This prediction can only be positive or negative for the \"binary\" prediction. The \"fine grained\" prediction should also include the probability (score) and if the text was neutral. That is why we will use the [Twitter Sentiment Dataset](https://www.kaggle.com/datasets/abhi8923shriv/sentiment-analysis-dataset?select=train.csv).\n",
    "\n",
    "This dataset contains 27481 tweets that are labeled as positive, negative or neutral (we only need pos/neg).\n",
    "\n",
    "The reason we are using this dataset is because it is a very small dataset. This means that we can train a model on it in a reasonable amount of time. The result should not be impacted that gravely by the small size of the dataset.\n",
    "\n",
    "We've also chosen the Twitter dataset (instead of the IMDB dataset) because it is a more realistic dataset. The IMDB dataset contains movie reviews, which are very different from tweets or real life comments."
   ]
  },
  {
   "cell_type": "code",
   "execution_count": 132,
   "metadata": {},
   "outputs": [],
   "source": [
    "# import dependencies\n",
    "\n",
    "import numpy as np\n",
    "import pandas as pd\n",
    "import tensorflow as tf\n",
    "from tensorflow.keras.utils import to_categorical\n",
    "from sklearn.linear_model import LogisticRegression\n",
    "from sklearn.model_selection import GridSearchCV\n",
    "from sklearn.preprocessing import LabelEncoder\n",
    "from sklearn.model_selection import train_test_split\n",
    "from sklearn.metrics import roc_curve, auc\n",
    "import matplotlib.pyplot as plt\n",
    "import nltk\n",
    "from nltk.corpus import stopwords\n",
    "import re\n",
    "from nltk.stem.snowball import SnowballStemmer\n",
    "from sklearn.feature_extraction.text import CountVectorizer\n",
    "from sklearn.feature_extraction.text import TfidfTransformer\n",
    "from sklearn.metrics import classification_report\n",
    "from sklearn.metrics import accuracy_score\n",
    "import pickle"
   ]
  },
  {
   "cell_type": "markdown",
   "metadata": {},
   "source": [
    "## Data Analysis"
   ]
  },
  {
   "cell_type": "code",
   "execution_count": 133,
   "metadata": {},
   "outputs": [],
   "source": [
    "df = pd.read_csv(\"data/data.csv\", encoding=\"latin-1\")"
   ]
  },
  {
   "cell_type": "code",
   "execution_count": 134,
   "metadata": {},
   "outputs": [
    {
     "name": "stdout",
     "output_type": "stream",
     "text": [
      "<class 'pandas.core.frame.DataFrame'>\n",
      "RangeIndex: 27481 entries, 0 to 27480\n",
      "Data columns (total 10 columns):\n",
      " #   Column            Non-Null Count  Dtype  \n",
      "---  ------            --------------  -----  \n",
      " 0   textID            27481 non-null  object \n",
      " 1   text              27480 non-null  object \n",
      " 2   selected_text     27480 non-null  object \n",
      " 3   sentiment         27481 non-null  object \n",
      " 4   Time of Tweet     27481 non-null  object \n",
      " 5   Age of User       27481 non-null  object \n",
      " 6   Country           27481 non-null  object \n",
      " 7   Population -2020  27481 non-null  int64  \n",
      " 8   Land Area (Km²)   27481 non-null  float64\n",
      " 9   Density (P/Km²)   27481 non-null  int64  \n",
      "dtypes: float64(1), int64(2), object(7)\n",
      "memory usage: 2.1+ MB\n"
     ]
    }
   ],
   "source": [
    "df.info()"
   ]
  },
  {
   "cell_type": "code",
   "execution_count": 135,
   "metadata": {},
   "outputs": [
    {
     "data": {
      "text/html": [
       "<div>\n",
       "<style scoped>\n",
       "    .dataframe tbody tr th:only-of-type {\n",
       "        vertical-align: middle;\n",
       "    }\n",
       "\n",
       "    .dataframe tbody tr th {\n",
       "        vertical-align: top;\n",
       "    }\n",
       "\n",
       "    .dataframe thead th {\n",
       "        text-align: right;\n",
       "    }\n",
       "</style>\n",
       "<table border=\"1\" class=\"dataframe\">\n",
       "  <thead>\n",
       "    <tr style=\"text-align: right;\">\n",
       "      <th></th>\n",
       "      <th>textID</th>\n",
       "      <th>text</th>\n",
       "      <th>selected_text</th>\n",
       "      <th>sentiment</th>\n",
       "      <th>Time of Tweet</th>\n",
       "      <th>Age of User</th>\n",
       "      <th>Country</th>\n",
       "      <th>Population -2020</th>\n",
       "      <th>Land Area (Km²)</th>\n",
       "      <th>Density (P/Km²)</th>\n",
       "    </tr>\n",
       "  </thead>\n",
       "  <tbody>\n",
       "    <tr>\n",
       "      <th>0</th>\n",
       "      <td>cb774db0d1</td>\n",
       "      <td>I`d have responded, if I were going</td>\n",
       "      <td>I`d have responded, if I were going</td>\n",
       "      <td>neutral</td>\n",
       "      <td>morning</td>\n",
       "      <td>0-20</td>\n",
       "      <td>Afghanistan</td>\n",
       "      <td>38928346</td>\n",
       "      <td>652860.0</td>\n",
       "      <td>60</td>\n",
       "    </tr>\n",
       "    <tr>\n",
       "      <th>1</th>\n",
       "      <td>549e992a42</td>\n",
       "      <td>Sooo SAD I will miss you here in San Diego!!!</td>\n",
       "      <td>Sooo SAD</td>\n",
       "      <td>negative</td>\n",
       "      <td>noon</td>\n",
       "      <td>21-30</td>\n",
       "      <td>Albania</td>\n",
       "      <td>2877797</td>\n",
       "      <td>27400.0</td>\n",
       "      <td>105</td>\n",
       "    </tr>\n",
       "    <tr>\n",
       "      <th>2</th>\n",
       "      <td>088c60f138</td>\n",
       "      <td>my boss is bullying me...</td>\n",
       "      <td>bullying me</td>\n",
       "      <td>negative</td>\n",
       "      <td>night</td>\n",
       "      <td>31-45</td>\n",
       "      <td>Algeria</td>\n",
       "      <td>43851044</td>\n",
       "      <td>2381740.0</td>\n",
       "      <td>18</td>\n",
       "    </tr>\n",
       "    <tr>\n",
       "      <th>3</th>\n",
       "      <td>9642c003ef</td>\n",
       "      <td>what interview! leave me alone</td>\n",
       "      <td>leave me alone</td>\n",
       "      <td>negative</td>\n",
       "      <td>morning</td>\n",
       "      <td>46-60</td>\n",
       "      <td>Andorra</td>\n",
       "      <td>77265</td>\n",
       "      <td>470.0</td>\n",
       "      <td>164</td>\n",
       "    </tr>\n",
       "    <tr>\n",
       "      <th>4</th>\n",
       "      <td>358bd9e861</td>\n",
       "      <td>Sons of ****, why couldn`t they put them on t...</td>\n",
       "      <td>Sons of ****,</td>\n",
       "      <td>negative</td>\n",
       "      <td>noon</td>\n",
       "      <td>60-70</td>\n",
       "      <td>Angola</td>\n",
       "      <td>32866272</td>\n",
       "      <td>1246700.0</td>\n",
       "      <td>26</td>\n",
       "    </tr>\n",
       "  </tbody>\n",
       "</table>\n",
       "</div>"
      ],
      "text/plain": [
       "       textID                                               text  \\\n",
       "0  cb774db0d1                I`d have responded, if I were going   \n",
       "1  549e992a42      Sooo SAD I will miss you here in San Diego!!!   \n",
       "2  088c60f138                          my boss is bullying me...   \n",
       "3  9642c003ef                     what interview! leave me alone   \n",
       "4  358bd9e861   Sons of ****, why couldn`t they put them on t...   \n",
       "\n",
       "                         selected_text sentiment Time of Tweet Age of User  \\\n",
       "0  I`d have responded, if I were going   neutral       morning        0-20   \n",
       "1                             Sooo SAD  negative          noon       21-30   \n",
       "2                          bullying me  negative         night       31-45   \n",
       "3                       leave me alone  negative       morning       46-60   \n",
       "4                        Sons of ****,  negative          noon       60-70   \n",
       "\n",
       "       Country  Population -2020  Land Area (Km²)  Density (P/Km²)  \n",
       "0  Afghanistan          38928346         652860.0               60  \n",
       "1      Albania           2877797          27400.0              105  \n",
       "2      Algeria          43851044        2381740.0               18  \n",
       "3      Andorra             77265            470.0              164  \n",
       "4       Angola          32866272        1246700.0               26  "
      ]
     },
     "execution_count": 135,
     "metadata": {},
     "output_type": "execute_result"
    }
   ],
   "source": [
    "df.head()"
   ]
  },
  {
   "cell_type": "markdown",
   "metadata": {},
   "source": [
    "Looking at this dataset, we can see in the second observation that there are HTML tags, punctuation, and other non-letter characters. We will need to remove these before we can train a model. "
   ]
  },
  {
   "cell_type": "markdown",
   "metadata": {},
   "source": [
    "## Data Analysis - Missing Values"
   ]
  },
  {
   "cell_type": "code",
   "execution_count": 136,
   "metadata": {},
   "outputs": [
    {
     "data": {
      "text/plain": [
       "textID              0\n",
       "text                1\n",
       "selected_text       1\n",
       "sentiment           0\n",
       "Time of Tweet       0\n",
       "Age of User         0\n",
       "Country             0\n",
       "Population -2020    0\n",
       "Land Area (Km²)     0\n",
       "Density (P/Km²)     0\n",
       "dtype: int64"
      ]
     },
     "execution_count": 136,
     "metadata": {},
     "output_type": "execute_result"
    }
   ],
   "source": [
    "df.isnull().sum()"
   ]
  },
  {
   "cell_type": "markdown",
   "metadata": {},
   "source": [
    "## Data Analysis - Classes"
   ]
  },
  {
   "cell_type": "code",
   "execution_count": 137,
   "metadata": {},
   "outputs": [
    {
     "data": {
      "text/plain": [
       "<Axes: xlabel='sentiment'>"
      ]
     },
     "execution_count": 137,
     "metadata": {},
     "output_type": "execute_result"
    },
    {
     "data": {
      "image/png": "[encoded data removed]",
      "text/plain": [
       "<Figure size 640x480 with 1 Axes>"
      ]
     },
     "metadata": {},
     "output_type": "display_data"
    }
   ],
   "source": [
    "df['sentiment'].value_counts().plot(kind='bar')"
   ]
  },
  {
   "cell_type": "code",
   "execution_count": 138,
   "metadata": {},
   "outputs": [
    {
     "data": {
      "text/plain": [
       "sentiment\n",
       "neutral     11118\n",
       "positive     8582\n",
       "negative     7781\n",
       "Name: count, dtype: int64"
      ]
     },
     "execution_count": 138,
     "metadata": {},
     "output_type": "execute_result"
    }
   ],
   "source": [
    "df['sentiment'].value_counts()"
   ]
  },
  {
   "cell_type": "markdown",
   "metadata": {},
   "source": [
    "## Data Preprocessing"
   ]
  },
  {
   "cell_type": "markdown",
   "metadata": {},
   "source": [
    "### Steps\n",
    "\n",
    "1. Handle the inconsistency found in the \"Data Analysis\" section\n",
    "2. Split the data into train and test sets\n",
    "3. Encode string labels (positive, negative) to integers (1, 0)\n",
    "4. Preprocess the text data (tokenize, pad, and truncate)\n",
    "5. Apply a word embedding\n"
   ]
  },
  {
   "cell_type": "code",
   "execution_count": 139,
   "metadata": {},
   "outputs": [],
   "source": [
    "# drop missing values\n",
    "\n",
    "df = df.dropna()"
   ]
  },
  {
   "cell_type": "code",
   "execution_count": 140,
   "metadata": {},
   "outputs": [],
   "source": [
    "# keep only 'text' and 'sentiment' columns\n",
    "\n",
    "df = df[['text', 'sentiment']]"
   ]
  },
  {
   "cell_type": "code",
   "execution_count": 141,
   "metadata": {},
   "outputs": [
    {
     "data": {
      "text/html": [
       "<div>\n",
       "<style scoped>\n",
       "    .dataframe tbody tr th:only-of-type {\n",
       "        vertical-align: middle;\n",
       "    }\n",
       "\n",
       "    .dataframe tbody tr th {\n",
       "        vertical-align: top;\n",
       "    }\n",
       "\n",
       "    .dataframe thead th {\n",
       "        text-align: right;\n",
       "    }\n",
       "</style>\n",
       "<table border=\"1\" class=\"dataframe\">\n",
       "  <thead>\n",
       "    <tr style=\"text-align: right;\">\n",
       "      <th></th>\n",
       "      <th>text</th>\n",
       "      <th>sentiment</th>\n",
       "    </tr>\n",
       "  </thead>\n",
       "  <tbody>\n",
       "    <tr>\n",
       "      <th>0</th>\n",
       "      <td>I`d have responded, if I were going</td>\n",
       "      <td>neutral</td>\n",
       "    </tr>\n",
       "    <tr>\n",
       "      <th>1</th>\n",
       "      <td>Sooo SAD I will miss you here in San Diego!!!</td>\n",
       "      <td>negative</td>\n",
       "    </tr>\n",
       "    <tr>\n",
       "      <th>2</th>\n",
       "      <td>my boss is bullying me...</td>\n",
       "      <td>negative</td>\n",
       "    </tr>\n",
       "    <tr>\n",
       "      <th>3</th>\n",
       "      <td>what interview! leave me alone</td>\n",
       "      <td>negative</td>\n",
       "    </tr>\n",
       "    <tr>\n",
       "      <th>4</th>\n",
       "      <td>Sons of ****, why couldn`t they put them on t...</td>\n",
       "      <td>negative</td>\n",
       "    </tr>\n",
       "  </tbody>\n",
       "</table>\n",
       "</div>"
      ],
      "text/plain": [
       "                                                text sentiment\n",
       "0                I`d have responded, if I were going   neutral\n",
       "1      Sooo SAD I will miss you here in San Diego!!!  negative\n",
       "2                          my boss is bullying me...  negative\n",
       "3                     what interview! leave me alone  negative\n",
       "4   Sons of ****, why couldn`t they put them on t...  negative"
      ]
     },
     "execution_count": 141,
     "metadata": {},
     "output_type": "execute_result"
    }
   ],
   "source": [
    "df.head()"
   ]
  },
  {
   "cell_type": "code",
   "execution_count": 142,
   "metadata": {},
   "outputs": [
    {
     "name": "stdout",
     "output_type": "stream",
     "text": [
      "<class 'pandas.core.frame.DataFrame'>\n",
      "Index: 27480 entries, 0 to 27480\n",
      "Data columns (total 2 columns):\n",
      " #   Column     Non-Null Count  Dtype \n",
      "---  ------     --------------  ----- \n",
      " 0   text       27480 non-null  object\n",
      " 1   sentiment  27480 non-null  object\n",
      "dtypes: object(2)\n",
      "memory usage: 644.1+ KB\n"
     ]
    }
   ],
   "source": [
    "df.info()"
   ]
  },
  {
   "cell_type": "markdown",
   "metadata": {},
   "source": [
    "There is a relatively equal amount of positive and negative tweets in this dataset. We don't need to perform any balancing of the dataset."
   ]
  },
  {
   "cell_type": "code",
   "execution_count": 143,
   "metadata": {},
   "outputs": [
    {
     "name": "stdout",
     "output_type": "stream",
     "text": [
      "Training Data : 21984\n",
      "Testing Data :  5496\n"
     ]
    }
   ],
   "source": [
    "# split the data into train and test sets\n",
    "\n",
    "X = df['text'].values\n",
    "y = df['sentiment'].values\n",
    "\n",
    "X_train, X_test, y_train, y_test = train_test_split(X, y, test_size=0.2, random_state=1234)\n",
    "\n",
    "print('Training Data :', X_train.shape[0])\n",
    "print('Testing Data : ', X_test.shape[0])"
   ]
  },
  {
   "cell_type": "code",
   "execution_count": 144,
   "metadata": {},
   "outputs": [],
   "source": [
    "# Encode the string labels into numerical values\n",
    "label_encoder = LabelEncoder()\n",
    "y_train = label_encoder.fit_transform(y_train)\n",
    "y_test = label_encoder.transform(y_test)\n",
    "\n",
    "# Convert the numerical labels to one-hot encoded vectors\n",
    "num_classes = len(label_encoder.classes_)\n",
    "y_train = to_categorical(y_train, num_classes=num_classes)\n",
    "y_test = to_categorical(y_test, num_classes=num_classes)\n",
    "\n",
    "# Pickle the label encoder for future (api) use\n",
    "with open('label_encoder.pkl', 'wb') as le_dump_file:\n",
    "    pickle.dump(label_encoder, le_dump_file)"
   ]
  },
  {
   "cell_type": "code",
   "execution_count": 145,
   "metadata": {},
   "outputs": [],
   "source": [
    "# preprocessing data\n",
    "\n",
    "def text_preprocessing(text, language, minWordSize):\n",
    "\t# remove non-letters\n",
    "\ttext = re.sub('[^a-zA-Z]', ' ', text)\n",
    "\ttext = text.lower()\n",
    "\twords = text.split()\n",
    "\n",
    "\t# remove stop words\n",
    "\tstop_words = set(stopwords.words(language))\n",
    "\ttext_no_stop_words = ' '\n",
    "\twords = [w for w in words if not w in stop_words]\n",
    "\t\n",
    "\t# remove words less than minWordSize\n",
    "\twords = [w for w in words if len(w) >= minWordSize]\n",
    "\n",
    "\t# keep 'not' and 'no' ... in stop words\n",
    "\twhitelist = [\"n't\", \"not\", \"no\"]\n",
    "\tfor word in text.split():\n",
    "\t\tif word not in stop_words or word in whitelist:  \n",
    "\t\t\ttext_no_stop_words = text_no_stop_words + word + ' '\n",
    "\n",
    "\t# stemming\n",
    "\ttext_stemmer = ' '\n",
    "\tstemmer = SnowballStemmer(language)\n",
    "\tfor w in text_no_stop_words.split():\n",
    "\t\ttext_stemmer = text_stemmer + stemmer.stem(w) + ' '\n",
    "\n",
    "\treturn text_no_stop_words"
   ]
  },
  {
   "cell_type": "code",
   "execution_count": 146,
   "metadata": {},
   "outputs": [],
   "source": [
    "X_train_df = pd.DataFrame(X_train, columns=['text'])\n",
    "X_test_df = pd.DataFrame(X_test, columns=['text'])\n",
    "\n",
    "language = 'english'\n",
    "minWordLength = 2\n",
    "\n",
    "for i in range(X_train_df.shape[0]):\n",
    "    X_train_df['text'].iloc[i] = text_preprocessing(X_train_df['text'].iloc[i], language, minWordLength)\n",
    "\n",
    "for i in range(X_test_df.shape[0]):\n",
    "    X_test_df['text'].iloc[i] = text_preprocessing(X_test_df['text'].iloc[i], language, minWordLength)\n",
    "\n",
    "X_train = X_train_df['text'].values\n",
    "X_test = X_test_df['text'].values"
   ]
  },
  {
   "cell_type": "code",
   "execution_count": 147,
   "metadata": {},
   "outputs": [],
   "source": [
    "import pickle\n",
    "\n",
    "# Convert to bag-of-words representation\n",
    "count_vect = CountVectorizer()\n",
    "X_train_bag_of_words = count_vect.fit_transform(X_train)\n",
    "X_test_bag_of_words = count_vect.transform(X_test)\n",
    "\n",
    "# Save the CountVectorizer object\n",
    "with open('count_vectorizer.pkl', 'wb') as f:\n",
    "    pickle.dump(count_vect, f)\n",
    "\n",
    "# Apply TF-IDF transformation\n",
    "tfidf_transformer = TfidfTransformer()\n",
    "X_train_tf = tfidf_transformer.fit_transform(X_train_bag_of_words)\n",
    "X_test_tf = tfidf_transformer.transform(X_test_bag_of_words)\n",
    "\n",
    "# Save the TfidfTransformer object\n",
    "with open('tfidf_transformer.pkl', 'wb') as f:\n",
    "    pickle.dump(tfidf_transformer, f)"
   ]
  },
  {
   "cell_type": "markdown",
   "metadata": {},
   "source": [
    "## Creating the model"
   ]
  },
  {
   "cell_type": "markdown",
   "metadata": {},
   "source": [
    "### Steps\n",
    "\n",
    "1. Build a model (Logistic Regression)\n",
    "2. Train the model"
   ]
  },
  {
   "cell_type": "markdown",
   "metadata": {},
   "source": [
    "Only Logistic Regression is used, because the other models are too slow to train. This Logistic Regression also produces very good results for the task of sentiment analysis."
   ]
  },
  {
   "cell_type": "markdown",
   "metadata": {},
   "source": [
    "#### Logistic Regression - Model"
   ]
  },
  {
   "cell_type": "code",
   "execution_count": 148,
   "metadata": {},
   "outputs": [
    {
     "name": "stdout",
     "output_type": "stream",
     "text": [
      "Best accuracy: 0.6760826055312956\n",
      "Best parameters: {'C': 1}\n"
     ]
    },
    {
     "name": "stderr",
     "output_type": "stream",
     "text": [
      "c:\\Users\\denis\\.virtualenvs\\server-L9IasW_S\\Lib\\site-packages\\sklearn\\linear_model\\_logistic.py:460: ConvergenceWarning: lbfgs failed to converge (status=1):\n",
      "STOP: TOTAL NO. of ITERATIONS REACHED LIMIT.\n",
      "\n",
      "Increase the number of iterations (max_iter) or scale the data as shown in:\n",
      "    https://scikit-learn.org/stable/modules/preprocessing.html\n",
      "Please also refer to the documentation for alternative solver options:\n",
      "    https://scikit-learn.org/stable/modules/linear_model.html#logistic-regression\n",
      "  n_iter_i = _check_optimize_result(\n"
     ]
    }
   ],
   "source": [
    "# Convert one-hot encoded labels to 1D array\n",
    "y_train_1d = np.argmax(y_train, axis=1)\n",
    "\n",
    "model = LogisticRegression()\n",
    "parameters = [{'C' : [0.001, 0.01, 0.1, 1, 10, 100, 1000,10000, 100000]}]\n",
    "logistic_grid_search = GridSearchCV(estimator=model, param_grid=parameters,\n",
    "scoring='accuracy', cv=4, n_jobs=-1)\n",
    "\n",
    "logistic_grid_search = logistic_grid_search.fit(X_train_tf, y_train_1d)\n",
    "\n",
    "best_accuracy = logistic_grid_search.best_score_\n",
    "best_parameters = logistic_grid_search.best_params_\n",
    "\n",
    "print('Best accuracy:', best_accuracy)\n",
    "print('Best parameters:', best_parameters)"
   ]
  },
  {
   "cell_type": "code",
   "execution_count": 149,
   "metadata": {},
   "outputs": [
    {
     "data": {
      "image/png": "[encoded data removed]",
      "text/plain": [
       "<Figure size 1000x600 with 1 Axes>"
      ]
     },
     "metadata": {},
     "output_type": "display_data"
    }
   ],
   "source": [
    "params = logistic_grid_search.cv_results_['params']\n",
    "mean_test_scores = logistic_grid_search.cv_results_['mean_test_score']\n",
    "\n",
    "plt.figure(figsize=(10, 6))\n",
    "plt.semilogx([param['C'] for param in params], mean_test_scores, marker='o')\n",
    "plt.xlabel('C (Inverse of Regularization Strength)')\n",
    "plt.ylabel('Mean Test Accuracy')\n",
    "plt.title('Hyperparameter Search for Logistic Regression')\n",
    "plt.grid(True)\n",
    "plt.show()"
   ]
  },
  {
   "cell_type": "code",
   "execution_count": 150,
   "metadata": {},
   "outputs": [],
   "source": [
    "best_model = logistic_grid_search.best_estimator_"
   ]
  },
  {
   "cell_type": "markdown",
   "metadata": {},
   "source": [
    "## Testing the model"
   ]
  },
  {
   "cell_type": "markdown",
   "metadata": {},
   "source": [
    "### Steps\n",
    "\n",
    "1. Evaluate the model on the test set\n",
    "2. Make predictions on custom reviews"
   ]
  },
  {
   "cell_type": "markdown",
   "metadata": {},
   "source": [
    "The ROC curve for the model is shown above. The AUC score is 0.94."
   ]
  },
  {
   "cell_type": "code",
   "execution_count": 152,
   "metadata": {},
   "outputs": [
    {
     "name": "stdout",
     "output_type": "stream",
     "text": [
      "Accuracy:  0.6952328966521106\n",
      "Classification Report:\n",
      "               precision    recall  f1-score   support\n",
      "\n",
      "           0       0.72      0.61      0.66      1528\n",
      "           1       0.64      0.75      0.69      2243\n",
      "           2       0.77      0.71      0.73      1725\n",
      "\n",
      "   micro avg       0.70      0.70      0.70      5496\n",
      "   macro avg       0.71      0.69      0.69      5496\n",
      "weighted avg       0.70      0.70      0.70      5496\n",
      " samples avg       0.70      0.70      0.70      5496\n",
      "\n"
     ]
    }
   ],
   "source": [
    "y_pred = best_model.predict(X_test_tf)\n",
    "\n",
    "y_pred_one_hot = to_categorical(y_pred, num_classes=num_classes)\n",
    "\n",
    "# accuracy score\n",
    "accuracy = accuracy_score(y_test, y_pred_one_hot)\n",
    "print('Accuracy: ', accuracy)\n",
    "\n",
    "# classification report\n",
    "report = classification_report(y_test, y_pred_one_hot)\n",
    "print('Classification Report:\\n', report)"
   ]
  },
  {
   "cell_type": "code",
   "execution_count": 153,
   "metadata": {},
   "outputs": [],
   "source": [
    "# Save best model\n",
    "with open('model/sentiment_model.pkl', 'wb') as f:\n",
    "\tpickle.dump(best_model, f)"
   ]
  },
  {
   "cell_type": "code",
   "execution_count": 154,
   "metadata": {},
   "outputs": [],
   "source": [
    "# Load the saved model\n",
    "with open('model/sentiment_model.pkl', 'rb') as f:\n",
    "    model = pickle.load(f)\n",
    "\n",
    "# Load the saved label encoder\n",
    "with open('label_encoder.pkl', 'rb') as f:\n",
    "    label_encoder = pickle.load(f)\n",
    "\n",
    "# Load the saved count vectorizer\n",
    "with open('count_vectorizer.pkl', 'rb') as f:\n",
    "    count_vect = pickle.load(f)\n",
    "\n",
    "# Load the saved tfidf transformer\n",
    "with open('tfidf_transformer.pkl', 'rb') as f:\n",
    "    tfidf_transformer = pickle.load(f)"
   ]
  },
  {
   "cell_type": "code",
   "execution_count": 155,
   "metadata": {},
   "outputs": [
    {
     "name": "stdout",
     "output_type": "stream",
     "text": [
      "Given sentence: Why did you do that? I'm very disappointed\n",
      "Predicted sentiment: negative\n",
      "Probabilities: [0.81953723 0.1604403  0.02002247] \n",
      "\n",
      "Given sentence: I loved this movie.\n",
      "Predicted sentiment: positive\n",
      "Probabilities: [0.02367905 0.1088268  0.86749415] \n",
      "\n",
      "Given sentence: Hello everyone!\n",
      "Predicted sentiment: neutral\n",
      "Probabilities: [0.09587793 0.7022926  0.20182948] \n",
      "\n"
     ]
    }
   ],
   "source": [
    "# Preprocess new text\n",
    "\n",
    "sentences = [\"Why did you do that? I'm very disappointed\", \"I loved this movie.\", \"Hello everyone!\"]\n",
    "\n",
    "for sentence in sentences:\n",
    "\tpreprocessed_text = text_preprocessing(sentence, language, minWordLength)\n",
    "\tnew_text_bag_of_words = count_vect.transform([preprocessed_text])\n",
    "\tnew_text_tf = tfidf_transformer.transform(new_text_bag_of_words)\n",
    "\n",
    "\tpredicted_sentiment = model.predict(new_text_tf)\n",
    "\tpredicted_sentiment_label = label_encoder.inverse_transform(predicted_sentiment)\n",
    "\n",
    "\t# Get probabilities for each class\n",
    "\tprobabilities = model.predict_proba(new_text_tf)[0]\n",
    "\n",
    "\tprint(f\"Given sentence: {sentence}\")\n",
    "\tprint(f\"Predicted sentiment: {predicted_sentiment_label[0]}\")\n",
    "\tprint(f\"Probabilities: {probabilities} \\n\")"
   ]
  },
  {
   "cell_type": "markdown",
   "metadata": {},
   "source": [
    "## Functions to be used in the API"
   ]
  },
  {
   "cell_type": "markdown",
   "metadata": {},
   "source": [
    "In this part we will create the functions that will be used inside the API. ``get_binary_sentiment`` and ``get_fine_grained_sentiment`` will be used. The output will be in json format."
   ]
  },
  {
   "cell_type": "code",
   "execution_count": 156,
   "metadata": {},
   "outputs": [],
   "source": [
    "def text_sentiment_preprocessing(text, language, minWordLength, model, count_vect, tfidf_transformer, label_encoder):\n",
    "\tpreprocessed_text = text_preprocessing(text, language, minWordLength)\n",
    "\tnew_text_bag_of_words = count_vect.transform([preprocessed_text])\n",
    "\tnew_text_tf = tfidf_transformer.transform(new_text_bag_of_words)\n",
    "\n",
    "\tpredicted_sentiment = model.predict(new_text_tf)\n",
    "\tpredicted_sentiment_label = label_encoder.inverse_transform(predicted_sentiment)\n",
    "\n",
    "\tpredicted_probabilities = model.predict_proba(new_text_tf)\n",
    "\tprediction_amount = predicted_probabilities[0][predicted_sentiment[0]].round(2)\n",
    "\n",
    "\treturn predicted_sentiment_label[0], prediction_amount"
   ]
  },
  {
   "cell_type": "code",
   "execution_count": 157,
   "metadata": {},
   "outputs": [],
   "source": [
    "def get_binary_sentiment(text, language, minWordLength, model, count_vect, tfidf_transformer, label_encoder):\n",
    "\t\n",
    "\tpredicted_label, predicted_amount = text_sentiment_preprocessing(text=text, language=language, minWordLength=minWordLength, model=model, count_vect=count_vect, tfidf_transformer=tfidf_transformer, label_encoder=label_encoder)\n",
    "\n",
    "\tresult = {\n",
    "\t\t\"text\": text,\n",
    "\t\t\"sentiment\": predicted_label,\n",
    "\t}\n",
    "\n",
    "\tif predicted_sentiment_label == \"neutral\":\n",
    "\t\tresult[\"sentiment\"] = \"positive\"\n",
    "\n",
    "\treturn result"
   ]
  },
  {
   "cell_type": "code",
   "execution_count": 158,
   "metadata": {},
   "outputs": [],
   "source": [
    "text = \"This\""
   ]
  },
  {
   "cell_type": "code",
   "execution_count": 159,
   "metadata": {},
   "outputs": [
    {
     "data": {
      "text/plain": [
       "{'text': 'This', 'sentiment': 'positive'}"
      ]
     },
     "execution_count": 159,
     "metadata": {},
     "output_type": "execute_result"
    }
   ],
   "source": [
    "get_binary_sentiment(text=text, language=\"english\", minWordLength=2, model=model, count_vect=count_vect, tfidf_transformer=tfidf_transformer, label_encoder=label_encoder)"
   ]
  },
  {
   "cell_type": "code",
   "execution_count": 160,
   "metadata": {},
   "outputs": [],
   "source": [
    "def get_fine_grained_sentiment(text, language, minWordLength, model, count_vect, tfidf_transformer, label_encoder):\n",
    "\n",
    "\tpredicted_label, predicted_amount = text_sentiment_preprocessing(text, language, minWordLength, model, count_vect, tfidf_transformer, label_encoder)\n",
    "\n",
    "\tresult = {\n",
    "\t\t\"text\": text,\n",
    "\t\t\"sentiment\": predicted_label,\n",
    "\t\t\"score\": predicted_amount\n",
    "\t}\n",
    "\n",
    "\treturn result"
   ]
  },
  {
   "cell_type": "code",
   "execution_count": 161,
   "metadata": {},
   "outputs": [],
   "source": [
    "text = \"This is the best movie I have ever seen!\""
   ]
  },
  {
   "cell_type": "code",
   "execution_count": 162,
   "metadata": {},
   "outputs": [
    {
     "data": {
      "text/plain": [
       "{'text': 'This is the best movie I have ever seen!',\n",
       " 'sentiment': 'positive',\n",
       " 'score': 0.85}"
      ]
     },
     "execution_count": 162,
     "metadata": {},
     "output_type": "execute_result"
    }
   ],
   "source": [
    "get_fine_grained_sentiment(text=text, language=\"english\", minWordLength=2, model=model, count_vect=count_vect, tfidf_transformer=tfidf_transformer, label_encoder=label_encoder)"
   ]
  }
 ],
 "metadata": {
  "kernelspec": {
   "display_name": "server-L9IasW_S",
   "language": "python",
   "name": "python3"
  },
  "language_info": {
   "codemirror_mode": {
    "name": "ipython",
    "version": 3
   },
   "file_extension": ".py",
   "mimetype": "text/x-python",
   "name": "python",
   "nbconvert_exporter": "python",
   "pygments_lexer": "ipython3",
   "version": "3.11.4"
  },
  "orig_nbformat": 4
 },
 "nbformat": 4,
 "nbformat_minor": 2
}
